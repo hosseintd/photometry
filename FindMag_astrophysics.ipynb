{
 "cells": [
  {
   "cell_type": "markdown",
   "id": "b699f3d8",
   "metadata": {},
   "source": [
    "### Install & Import libraries\n"
   ]
  },
  {
   "cell_type": "code",
   "execution_count": null,
   "id": "0f5a33f4",
   "metadata": {},
   "outputs": [],
   "source": [
    "!pip install astropy\n",
    "!pip install photutils"
   ]
  },
  {
   "cell_type": "code",
   "execution_count": null,
   "id": "e8b90af8",
   "metadata": {},
   "outputs": [],
   "source": [
    "import matplotlib.pyplot as plt\n",
    "from matplotlib.colors import LogNorm\n",
    "from astropy.io import fits"
   ]
  },
  {
   "cell_type": "markdown",
   "id": "caf05851",
   "metadata": {},
   "source": [
    "# Read fits header"
   ]
  },
  {
   "cell_type": "code",
   "execution_count": null,
   "id": "6ace92b3",
   "metadata": {},
   "outputs": [],
   "source": [
    "from astropy.io import fits\n",
    "with fits.open(\"GROND_g_OB_ana.fits\") as hdul:\n",
    "    header = hdul[0].header\n",
    "\n",
    "header"
   ]
  },
  {
   "cell_type": "markdown",
   "id": "1b9d4372",
   "metadata": {},
   "source": [
    "# First look"
   ]
  },
  {
   "cell_type": "code",
   "execution_count": null,
   "id": "cc39ad85",
   "metadata": {},
   "outputs": [],
   "source": [
    "fits_file = fits.open(\"GROND_g_OB_ana.fits\")\n",
    "image_data = fits_file[0].data\n",
    "\n",
    "img = fits_file[0].data\n",
    "plt.figure()\n",
    "plt.imshow(img,origin='lower' ) \n",
    "plt.colorbar()\n",
    "plt.show()\n",
    "plt.imshow(img,origin='lower' , cmap='Greys')\n",
    "plt.colorbar()\n",
    "plt.show()"
   ]
  },
  {
   "cell_type": "markdown",
   "id": "905c593a",
   "metadata": {},
   "source": [
    "## Apply Log norm"
   ]
  },
  {
   "cell_type": "code",
   "execution_count": null,
   "id": "b004b968",
   "metadata": {},
   "outputs": [],
   "source": [
    "img = fits_file[0].data\n",
    "plt.figure()\n",
    "plt.imshow(img,origin='lower',norm=LogNorm() ) \n",
    "plt.colorbar()\n",
    "plt.show()"
   ]
  },
  {
   "cell_type": "markdown",
   "id": "88b7b38f",
   "metadata": {},
   "source": [
    "## Find sources with DAO algorithm\n",
    "#### https://iopscience.iop.org/article/10.1086/131977/pdf"
   ]
  },
  {
   "cell_type": "code",
   "execution_count": null,
   "id": "685086c5",
   "metadata": {},
   "outputs": [],
   "source": [
    "section1 = image_data[:, :]\n",
    "\n",
    "#find mean, median, and standard deviation\n",
    "from astropy.stats import sigma_clipped_stats\n",
    "mean, median, std = sigma_clipped_stats(section1,sigma=8.0)\n",
    "mean, median, std"
   ]
  },
  {
   "cell_type": "code",
   "execution_count": null,
   "id": "6561b6d6",
   "metadata": {},
   "outputs": [],
   "source": []
  },
  {
   "cell_type": "code",
   "execution_count": null,
   "id": "a6f78371",
   "metadata": {},
   "outputs": [],
   "source": [
    "from photutils.detection import DAOStarFinder\n",
    "\n",
    "\n",
    "\n",
    "# TODO!\n",
    "daofind = DAOStarFinder(fwhm =  , threshold = 5.0*std)\n",
    "\n",
    "import numpy as np\n",
    "from photutils.aperture import CircularAperture\n",
    "\n",
    "\n",
    "\n",
    "sources = daofind(section1-median) \n",
    "\n",
    "xpix = sources['xcentroid']\n",
    "ypix = sources['ycentroid']\n",
    "\n",
    "positions = np.transpose((xpix,ypix))\n",
    "apertures = CircularAperture(positions,r=30)\n",
    "\n",
    "\n",
    "plt.figure(figsize=(20,20))\n",
    "plt.imshow(section1,cmap='Greys', norm=LogNorm(), origin = 'lower', interpolation='nearest') #cmap='Greys'\n",
    "apertures.plot(color='blue',lw=1.5, alpha = 0.5);"
   ]
  },
  {
   "cell_type": "code",
   "execution_count": null,
   "id": "1d653062",
   "metadata": {},
   "outputs": [],
   "source": [
    "plt.imshow(img-median,origin='lower',norm=LogNorm())\n",
    "plt.colorbar()\n",
    "plt.show()\n",
    "\n",
    "plt.imshow(img,origin='lower',norm=LogNorm() ) \n",
    "plt.colorbar()\n",
    "plt.show()"
   ]
  },
  {
   "cell_type": "markdown",
   "id": "084fa5c7",
   "metadata": {},
   "source": [
    "## Find appropriate radial"
   ]
  },
  {
   "cell_type": "code",
   "execution_count": null,
   "id": "748a6755",
   "metadata": {},
   "outputs": [],
   "source": [
    "sc = sources.to_pandas()\n",
    "sc['xycent'] = list(zip(sc.xcentroid, sc.ycentroid))\n",
    "sc.iloc[np.where((sc.xcentroid >= 1000) & (sc.xcentroid <= 1200))]"
   ]
  },
  {
   "cell_type": "code",
   "execution_count": null,
   "id": "ce344c43",
   "metadata": {},
   "outputs": [],
   "source": [
    "from photutils.profiles import CurveOfGrowth\n",
    "cog = CurveOfGrowth(section1,sc['xycent'].values[52],radii=[i for i in range(1,70)])\n",
    "cog.plot()"
   ]
  },
  {
   "cell_type": "code",
   "execution_count": null,
   "id": "27c6c374",
   "metadata": {},
   "outputs": [],
   "source": [
    "from photutils.profiles import RadialProfile\n",
    "rfp = RadialProfile(section1,sc['xycent'].values[52],radii=[i for i in range(1,70)])\n",
    "rfp.plot()"
   ]
  },
  {
   "cell_type": "markdown",
   "id": "ac952de1",
   "metadata": {},
   "source": [
    "### Draw aperture with selected radial"
   ]
  },
  {
   "cell_type": "code",
   "execution_count": null,
   "id": "7f976764",
   "metadata": {},
   "outputs": [],
   "source": [
    "# TODO!\n",
    "apertures = CircularAperture(positions,r= )\n",
    "\n",
    "\n",
    "plt.figure(figsize=(20,20))\n",
    "plt.imshow(section1,cmap='Greys', norm=LogNorm(), origin = 'lower', interpolation='nearest') #cmap='Greys'\n",
    "apertures.plot(color='blue',lw=1.5, alpha = 0.5);"
   ]
  },
  {
   "cell_type": "markdown",
   "id": "afe835a7",
   "metadata": {},
   "source": [
    "### aperture_photometry"
   ]
  },
  {
   "cell_type": "code",
   "execution_count": null,
   "id": "68e2260b",
   "metadata": {},
   "outputs": [],
   "source": [
    "# %matplotlib notebook"
   ]
  },
  {
   "cell_type": "code",
   "execution_count": null,
   "id": "49f15592",
   "metadata": {},
   "outputs": [],
   "source": [
    "from photutils.aperture import CircularAnnulus, CircularAperture, ApertureStats, aperture_photometry\n",
    "\n",
    "# TODO!\n",
    "annulus_aperture = CircularAnnulus(positions, r_in=, r_out= )\n",
    "\n",
    "# plot annuluses\n",
    "plt.figure(figsize=(20,20))\n",
    "plt.imshow(section1, cmap='Greys', norm = LogNorm(), origin = 'lower')\n",
    "apertures.plot(color='blue',lw=1.5, alpha = 0.5);\n",
    "annulus_aperture.plot(color='green',lw=1.5,alpha=0.5);\n",
    "plt.show()"
   ]
  },
  {
   "cell_type": "code",
   "execution_count": null,
   "id": "7044f6c1",
   "metadata": {},
   "outputs": [],
   "source": [
    "# define background\n",
    "aperstats = ApertureStats(img, annulus_aperture)\n",
    "bkg_mean = aperstats.mean\n",
    "aperture_area = apertures.area_overlap(img)\n",
    "\n",
    "### TODO!\n",
    "total_bkg = ( )* ( ) \n",
    "\n",
    "# perform aperture photometry\n",
    "star_data = aperture_photometry(img, apertures)\n",
    "\n",
    "\n",
    "\n",
    "\n",
    "star_data['total_bkg'] = total_bkg\n",
    "for col in star_data.colnames:\n",
    "    star_data[col].info.format = '%.8g'\n",
    "star_data.pprint()"
   ]
  },
  {
   "cell_type": "markdown",
   "id": "0f10921d",
   "metadata": {},
   "source": [
    "# calibration"
   ]
  },
  {
   "cell_type": "code",
   "execution_count": null,
   "id": "11c7deff",
   "metadata": {},
   "outputs": [],
   "source": [
    "# TODO !\n",
    "zeropoint = \n",
    "\n",
    "extime = \n",
    "\n",
    "\n",
    "import math\n",
    "magnitudes = []\n",
    "for line in star_data:\n",
    "    magnitudes.append(zeropoint - (2.5*math.log10(abs(line[3]-line[4])/extime)))\n",
    "\n",
    "\n",
    "\n",
    "star_data['magnitude'] = magnitudes\n",
    "star_data.pprint(max_lines = -1, max_width = -1)"
   ]
  },
  {
   "cell_type": "code",
   "execution_count": null,
   "id": "b9c4296e",
   "metadata": {},
   "outputs": [],
   "source": [
    "star_data[50:60]\n"
   ]
  },
  {
   "cell_type": "code",
   "execution_count": null,
   "id": "5e70e79c",
   "metadata": {},
   "outputs": [],
   "source": []
  }
 ],
 "metadata": {
  "kernelspec": {
   "display_name": "Python 3 (ipykernel)",
   "language": "python",
   "name": "python3"
  },
  "language_info": {
   "codemirror_mode": {
    "name": "ipython",
    "version": 3
   },
   "file_extension": ".py",
   "mimetype": "text/x-python",
   "name": "python",
   "nbconvert_exporter": "python",
   "pygments_lexer": "ipython3",
   "version": "3.9.13"
  }
 },
 "nbformat": 4,
 "nbformat_minor": 5
}
